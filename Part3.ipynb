{
  "nbformat": 4,
  "nbformat_minor": 0,
  "metadata": {
    "colab": {
      "name": "Part3.ipynb",
      "provenance": [],
      "collapsed_sections": []
    },
    "kernelspec": {
      "name": "python3",
      "display_name": "Python 3"
    }
  },
  "cells": [
    {
      "cell_type": "markdown",
      "metadata": {
        "id": "mo-ZyAFSvrkm",
        "colab_type": "text"
      },
      "source": [
        "Part Three:\n",
        "*   Arrange the Audio Files\n",
        "*   Generate Melspectrogram Image for All Songs\n",
        "*   Store the Images & Genres into Arrays\n",
        "*   Write the Image & Genre Arrays into Pickle Files"
      ]
    },
    {
      "cell_type": "markdown",
      "metadata": {
        "id": "oBUmDbkrxc_Q",
        "colab_type": "text"
      },
      "source": [
        "**Import Headers**"
      ]
    },
    {
      "cell_type": "code",
      "metadata": {
        "id": "xiOIw6Yoxiit",
        "colab_type": "code",
        "colab": {}
      },
      "source": [
        "import os\n",
        "from datetime import datetime\n",
        "import librosa\n",
        "import librosa.display #showing audio processing output\n",
        "import numpy as np\n",
        "from matplotlib import pyplot as plt #for plotting graphs & displaying them\n",
        "import pickle #for storing array in its original shape"
      ],
      "execution_count": 0,
      "outputs": []
    },
    {
      "cell_type": "markdown",
      "metadata": {
        "id": "9JPsHkAwxoT-",
        "colab_type": "text"
      },
      "source": [
        "**Arrange the Audio Files**"
      ]
    },
    {
      "cell_type": "code",
      "metadata": {
        "id": "1v3BGFwux02B",
        "colab_type": "code",
        "colab": {}
      },
      "source": [
        "data_path = \"/content/drive/My Drive/Project/Data/Working_Data/genres\"\n",
        "files = os.listdir(data_path)\n",
        "genres = []\n",
        "for g in files:\n",
        "  if(g.endswith(\"mf\")):\n",
        "    continue\n",
        "  else:\n",
        "    genres.append(g)\n",
        "audio_address_list = []\n",
        "for g in genres:\n",
        "  files = os.listdir(data_path+\"/\"+g)\n",
        "  for f in files:\n",
        "    audio_address_list.append(data_path+\"/\"+g+\"/\"+f)\n",
        "print(\"Audio arrangement completed.\")"
      ],
      "execution_count": 0,
      "outputs": []
    },
    {
      "cell_type": "markdown",
      "metadata": {
        "id": "c-uafhanyVmL",
        "colab_type": "text"
      },
      "source": [
        "**Generate Melspectrogram Image for All Songs**"
      ]
    },
    {
      "cell_type": "markdown",
      "metadata": {
        "id": "k_9S_JSmyhEK",
        "colab_type": "text"
      },
      "source": [
        "*Genre 1*"
      ]
    },
    {
      "cell_type": "code",
      "metadata": {
        "id": "s3sbetHVymy2",
        "colab_type": "code",
        "colab": {}
      },
      "source": [
        "#this has been done individually because generating all the images together requires a lot of time & colab turns off\n",
        "os.mkdir(\"/content/drive/My Drive/Project/Data/Working_Data/Spectogram_Images\")\n",
        "for g in genres[:1]:\n",
        "  start_time = datetime.now()\n",
        "  os.mkdir(\"/content/drive/My Drive/Project/Data/Working_Data/Spectogram_Images/\"+g)\n",
        "  files = os.listdir(data_path+\"/\"+g)\n",
        "  for f in files:\n",
        "    y, sr = librosa.load(data_path+\"/\"+g+\"/\"+f)\n",
        "    spect = librosa.feature.melspectrogram(y=y, sr=sr, n_fft=2048, hop_length=512)\n",
        "    spect = librosa.power_to_db(spect, ref=np.max)\n",
        "    librosa.display.specshow(spect)\n",
        "    plt.savefig(\"/content/drive/My Drive/Project/Data/Working_Data/Spectogram_Images/\" + g + \"/\" + f[:-3] + \"jpg\")\n",
        "  end_time = datetime.now()\n",
        "  time_required = (end_time - start_time).total_seconds()\n",
        "  print(\"Genre\",g,\"completed.\\nTime reqired:\",time_required,\"seconds.\")"
      ],
      "execution_count": 0,
      "outputs": []
    },
    {
      "cell_type": "markdown",
      "metadata": {
        "id": "60cTXGoazski",
        "colab_type": "text"
      },
      "source": [
        "*Genre 2*"
      ]
    },
    {
      "cell_type": "code",
      "metadata": {
        "id": "sE7AC-a9z0Nb",
        "colab_type": "code",
        "colab": {}
      },
      "source": [
        "for g in genres[1:2]:\n",
        "  start_time = datetime.now()\n",
        "  os.mkdir(\"/content/drive/My Drive/Project/Data/Working_Data/Spectogram_Images/\"+g)\n",
        "  files = os.listdir(data_path+\"/\"+g)\n",
        "  for f in files:\n",
        "    y, sr = librosa.load(data_path+\"/\"+g+\"/\"+f)\n",
        "    spect = librosa.feature.melspectrogram(y=y, sr=sr,n_fft=2048, hop_length=512)\n",
        "    spect = librosa.power_to_db(spect, ref=np.max)\n",
        "    librosa.display.specshow(spect)\n",
        "    plt.savefig(\"/content/drive/My Drive/Project/Data/Working_Data/Spectogram_Images/\" + g + \"/\" + f[:-3] + \"jpg\")\n",
        "  end_time = datetime.now()\n",
        "  time_required = (end_time - start_time).total_seconds()\n",
        "  print(\"Genre\",g,\"completed.\\nTime reqired:\",time_required,\"seconds.\")"
      ],
      "execution_count": 0,
      "outputs": []
    },
    {
      "cell_type": "markdown",
      "metadata": {
        "id": "laAzlGLX0D0E",
        "colab_type": "text"
      },
      "source": [
        "*Genre 3*"
      ]
    },
    {
      "cell_type": "code",
      "metadata": {
        "id": "3dbnLhd00F66",
        "colab_type": "code",
        "colab": {}
      },
      "source": [
        "for g in genres[2:3]:\n",
        "  start_time = datetime.now()\n",
        "  os.mkdir(\"/content/drive/My Drive/Project/Data/Working_Data/Spectogram_Images/\"+g)\n",
        "  files = os.listdir(data_path+\"/\"+g)\n",
        "  for f in files:\n",
        "    y, sr = librosa.load(data_path+\"/\"+g+\"/\"+f)\n",
        "    spect = librosa.feature.melspectrogram(y=y, sr=sr,n_fft=2048, hop_length=512)\n",
        "    spect = librosa.power_to_db(spect, ref=np.max)\n",
        "    librosa.display.specshow(spect)\n",
        "    plt.savefig(\"/content/drive/My Drive/Project/Data/Working_Data/Spectogram_Images/\" + g + \"/\" + f[:-3] + \"jpg\")\n",
        "  end_time = datetime.now()\n",
        "  time_required = (end_time - start_time).total_seconds()\n",
        "  print(\"Genre\",g,\"completed.\\nTime reqired:\",time_required,\"seconds.\")"
      ],
      "execution_count": 0,
      "outputs": []
    },
    {
      "cell_type": "markdown",
      "metadata": {
        "id": "YudNVHck0OSG",
        "colab_type": "text"
      },
      "source": [
        "*Genre 4*"
      ]
    },
    {
      "cell_type": "code",
      "metadata": {
        "id": "x2Khqyri0e7-",
        "colab_type": "code",
        "colab": {}
      },
      "source": [
        "for g in genres[3:4]:\n",
        "  start_time = datetime.now()\n",
        "  os.mkdir(\"/content/drive/My Drive/Project/Data/Working_Data/Spectogram_Images/\"+g)\n",
        "  files = os.listdir(data_path+\"/\"+g)\n",
        "  for f in files:\n",
        "    y, sr = librosa.load(data_path+\"/\"+g+\"/\"+f)\n",
        "    spect = librosa.feature.melspectrogram(y=y, sr=sr,n_fft=2048, hop_length=512)\n",
        "    spect = librosa.power_to_db(spect, ref=np.max)\n",
        "    librosa.display.specshow(spect)\n",
        "    plt.savefig(\"/content/drive/My Drive/Project/Data/Working_Data/Spectogram_Images/\" + g + \"/\" + f[:-3] + \"jpg\")\n",
        "  end_time = datetime.now()\n",
        "  time_required = (end_time - start_time).total_seconds()\n",
        "  print(\"Genre\",g,\"completed.\\nTime reqired:\",time_required,\"seconds.\")"
      ],
      "execution_count": 0,
      "outputs": []
    },
    {
      "cell_type": "markdown",
      "metadata": {
        "id": "R4UDdOPG0QQY",
        "colab_type": "text"
      },
      "source": [
        "*Genre 5*"
      ]
    },
    {
      "cell_type": "code",
      "metadata": {
        "id": "WclGuHXj0l0i",
        "colab_type": "code",
        "colab": {}
      },
      "source": [
        "for g in genres[4:5]:\n",
        "  start_time = datetime.now()\n",
        "  os.mkdir(\"/content/drive/My Drive/Project/Data/Working_Data/Spectogram_Images/\"+g)\n",
        "  files = os.listdir(data_path+\"/\"+g)\n",
        "  for f in files:\n",
        "    y, sr = librosa.load(data_path+\"/\"+g+\"/\"+f)\n",
        "    spect = librosa.feature.melspectrogram(y=y, sr=sr,n_fft=2048, hop_length=512)\n",
        "    spect = librosa.power_to_db(spect, ref=np.max)\n",
        "    librosa.display.specshow(spect)\n",
        "    plt.savefig(\"/content/drive/My Drive/Project/Data/Working_Data/Spectogram_Images/\" + g + \"/\" + f[:-3] + \"jpg\")\n",
        "  end_time = datetime.now()\n",
        "  time_required = (end_time - start_time).total_seconds()\n",
        "  print(\"Genre\",g,\"completed.\\nTime reqired:\",time_required,\"seconds.\")"
      ],
      "execution_count": 0,
      "outputs": []
    },
    {
      "cell_type": "markdown",
      "metadata": {
        "id": "QSnl7L2E0SWb",
        "colab_type": "text"
      },
      "source": [
        "*Genre 6*"
      ]
    },
    {
      "cell_type": "code",
      "metadata": {
        "id": "JS9n2N4q0peY",
        "colab_type": "code",
        "colab": {}
      },
      "source": [
        "for g in genres[5:6]:\n",
        "  start_time = datetime.now()\n",
        "  os.mkdir(\"/content/drive/My Drive/Project/Data/Working_Data/Spectogram_Images/\"+g)\n",
        "  files = os.listdir(data_path+\"/\"+g)\n",
        "  for f in files:\n",
        "    y, sr = librosa.load(data_path+\"/\"+g+\"/\"+f)\n",
        "    spect = librosa.feature.melspectrogram(y=y, sr=sr,n_fft=2048, hop_length=512)\n",
        "    spect = librosa.power_to_db(spect, ref=np.max)\n",
        "    librosa.display.specshow(spect)\n",
        "    plt.savefig(\"/content/drive/My Drive/Project/Data/Working_Data/Spectogram_Images/\" + g + \"/\" + f[:-3] + \"jpg\")\n",
        "  end_time = datetime.now()\n",
        "  time_required = (end_time - start_time).total_seconds()\n",
        "  print(\"Genre\",g,\"completed.\\nTime reqired:\",time_required,\"seconds.\")"
      ],
      "execution_count": 0,
      "outputs": []
    },
    {
      "cell_type": "markdown",
      "metadata": {
        "id": "OpIKjB6i0ULV",
        "colab_type": "text"
      },
      "source": [
        "*Genre 7*"
      ]
    },
    {
      "cell_type": "code",
      "metadata": {
        "id": "zc7_U8Jd0saB",
        "colab_type": "code",
        "colab": {}
      },
      "source": [
        "for g in genres[6:7]:\n",
        "  start_time = datetime.now()\n",
        "  os.mkdir(\"/content/drive/My Drive/Project/Data/Working_Data/Spectogram_Images/\"+g)\n",
        "  files = os.listdir(data_path+\"/\"+g)\n",
        "  for f in files:\n",
        "    y, sr = librosa.load(data_path+\"/\"+g+\"/\"+f)\n",
        "    spect = librosa.feature.melspectrogram(y=y, sr=sr,n_fft=2048, hop_length=512)\n",
        "    spect = librosa.power_to_db(spect, ref=np.max)\n",
        "    librosa.display.specshow(spect)\n",
        "    plt.savefig(\"/content/drive/My Drive/Project/Data/Working_Data/Spectogram_Images/\" + g + \"/\" + f[:-3] + \"jpg\")\n",
        "  end_time = datetime.now()\n",
        "  time_required = (end_time - start_time).total_seconds()\n",
        "  print(\"Genre\",g,\"completed.\\nTime reqired:\",time_required,\"seconds.\")"
      ],
      "execution_count": 0,
      "outputs": []
    },
    {
      "cell_type": "markdown",
      "metadata": {
        "id": "yaiZ6HbN0V_D",
        "colab_type": "text"
      },
      "source": [
        "*Genre 8*"
      ]
    },
    {
      "cell_type": "code",
      "metadata": {
        "id": "Jhnc7pS90vjI",
        "colab_type": "code",
        "colab": {}
      },
      "source": [
        "for g in genres[7:8]:\n",
        "  start_time = datetime.now()\n",
        "  os.mkdir(\"/content/drive/My Drive/Project/Data/Working_Data/Spectogram_Images/\"+g)\n",
        "  files = os.listdir(data_path+\"/\"+g)\n",
        "  for f in files:\n",
        "    y, sr = librosa.load(data_path+\"/\"+g+\"/\"+f)\n",
        "    spect = librosa.feature.melspectrogram(y=y, sr=sr,n_fft=2048, hop_length=512)\n",
        "    spect = librosa.power_to_db(spect, ref=np.max)\n",
        "    librosa.display.specshow(spect)\n",
        "    plt.savefig(\"/content/drive/My Drive/Project/Data/Working_Data/Spectogram_Images/\" + g + \"/\" + f[:-3] + \"jpg\")\n",
        "  end_time = datetime.now()\n",
        "  time_required = (end_time - start_time).total_seconds()\n",
        "  print(\"Genre\",g,\"completed.\\nTime reqired:\",time_required,\"seconds.\")"
      ],
      "execution_count": 0,
      "outputs": []
    },
    {
      "cell_type": "markdown",
      "metadata": {
        "id": "COBOgfHW0YPB",
        "colab_type": "text"
      },
      "source": [
        "*Genre 9*"
      ]
    },
    {
      "cell_type": "code",
      "metadata": {
        "id": "sGUXJ1Ft0y2H",
        "colab_type": "code",
        "colab": {}
      },
      "source": [
        "for g in genres[8:9]:\n",
        "  start_time = datetime.now()\n",
        "  os.mkdir(\"/content/drive/My Drive/Project/Data/Working_Data/Spectogram_Images/\"+g)\n",
        "  files = os.listdir(data_path+\"/\"+g)\n",
        "  for f in files:\n",
        "    y, sr = librosa.load(data_path+\"/\"+g+\"/\"+f)\n",
        "    spect = librosa.feature.melspectrogram(y=y, sr=sr,n_fft=2048, hop_length=512)\n",
        "    spect = librosa.power_to_db(spect, ref=np.max)\n",
        "    librosa.display.specshow(spect)\n",
        "    plt.savefig(\"/content/drive/My Drive/Project/Data/Working_Data/Spectogram_Images/\" + g + \"/\" + f[:-3] + \"jpg\")\n",
        "  end_time = datetime.now()\n",
        "  time_required = (end_time - start_time).total_seconds()\n",
        "  print(\"Genre\",g,\"completed.\\nTime reqired:\",time_required,\"seconds.\")"
      ],
      "execution_count": 0,
      "outputs": []
    },
    {
      "cell_type": "markdown",
      "metadata": {
        "id": "XXTTLsVZ0bYQ",
        "colab_type": "text"
      },
      "source": [
        "*Genre 10*"
      ]
    },
    {
      "cell_type": "code",
      "metadata": {
        "id": "hEc6_fZ602a8",
        "colab_type": "code",
        "colab": {}
      },
      "source": [
        "for g in genres[9:]:\n",
        "  start_time = datetime.now()\n",
        "  os.mkdir(\"/content/drive/My Drive/Project/Data/Working_Data/Spectogram_Images/\"+g)\n",
        "  files = os.listdir(data_path+\"/\"+g)\n",
        "  for f in files:\n",
        "    y, sr = librosa.load(data_path+\"/\"+g+\"/\"+f)\n",
        "    spect = librosa.feature.melspectrogram(y=y, sr=sr,n_fft=2048, hop_length=512)\n",
        "    spect = librosa.power_to_db(spect, ref=np.max)\n",
        "    librosa.display.specshow(spect)\n",
        "    plt.savefig(\"/content/drive/My Drive/Project/Data/Working_Data/Spectogram_Images/\" + g + \"/\" + f[:-3] + \"jpg\")\n",
        "  end_time = datetime.now()\n",
        "  time_required = (end_time - start_time).total_seconds()\n",
        "  print(\"Genre\",g,\"completed.\\nTime reqired:\",time_required,\"seconds.\")"
      ],
      "execution_count": 0,
      "outputs": []
    },
    {
      "cell_type": "markdown",
      "metadata": {
        "id": "hTHvNJUy1R--",
        "colab_type": "text"
      },
      "source": [
        "**Store Images & Genres into Arrays**"
      ]
    },
    {
      "cell_type": "code",
      "metadata": {
        "id": "9oc6UGtH1YDW",
        "colab_type": "code",
        "colab": {}
      },
      "source": [
        "spectro_img_path = \"/content/drive/My Drive/Project/Data/Working_Data/Spectogram_Images/\"\n",
        "img_list = []\n",
        "genre_list = []\n",
        "for g in genres :\n",
        "  files = os.listdir(spectro_img_path + \"/\" + g)\n",
        "  for f in files:\n",
        "    img = plt.imread(spectro_img_path + \"/\" + g + \"/\" + f)\n",
        "    img_list.append(img)\n",
        "    genre_list.append(g)\n",
        "  print(\"Genre\",g,\"stored into array.\")\n",
        "\n",
        "img_array = np.array(img_list)\n",
        "genre_array = np.array(genre_list)\n",
        "print(\"The shape of Image Array is:\",img_array.shape)\n",
        "print(\"The shape of Genre Array is:\",genre_array.shape)"
      ],
      "execution_count": 0,
      "outputs": []
    },
    {
      "cell_type": "markdown",
      "metadata": {
        "id": "j6sG5Kqn2L9-",
        "colab_type": "text"
      },
      "source": [
        "**Write Image & Genre Arrays into Pickle Files**"
      ]
    },
    {
      "cell_type": "code",
      "metadata": {
        "id": "cIq51H-d2Qgv",
        "colab_type": "code",
        "colab": {}
      },
      "source": [
        "pickle_out = open(\"/content/drive/My Drive/Project/Data/Working_Data/Image.pickle\",\"wb\")\n",
        "pickle.dump(img_array, pickle_out)\n",
        "pickle_out.close()\n",
        "pickle_out = open(\"/content/drive/My Drive/Project/Data/Working_Data/Genre.pickle\",\"wb\")\n",
        "pickle.dump(genre_array, pickle_out)\n",
        "pickle_out.close()\n",
        "\n",
        "pickle_in = open(\"/content/drive/My Drive/Project/Data/Working_Data/Image.pickle\",\"rb\")\n",
        "temp_Image = pickle.load(pickle_in)\n",
        "pickle_in = open(\"/content/drive/My Drive/Project/Data/Working_Data/Genre.pickle\",\"rb\")\n",
        "temp_Genre = pickle.load(pickle_in)\n",
        "print(\"The shape of Image Array in Pickle File is:\",temp_Image.shape)\n",
        "print(\"The shape of Genre Array in Pickle File is:\",temp_Genre.shape)\n",
        "print(\"Part Three Successful!\")"
      ],
      "execution_count": 0,
      "outputs": []
    }
  ]
}