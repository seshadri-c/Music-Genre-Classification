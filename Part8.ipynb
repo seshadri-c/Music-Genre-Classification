{
  "nbformat": 4,
  "nbformat_minor": 0,
  "metadata": {
    "colab": {
      "name": "Part8.ipynb",
      "provenance": [],
      "collapsed_sections": []
    },
    "kernelspec": {
      "name": "python3",
      "display_name": "Python 3"
    }
  },
  "cells": [
    {
      "cell_type": "markdown",
      "metadata": {
        "id": "iiKYkCa9sOe1",
        "colab_type": "text"
      },
      "source": [
        "Part Eight:\n",
        "\n",
        "---\n",
        "Machine Learning Techniques\n",
        "*   Make the .csv File Usable\n",
        "*   Encode the Labels\n",
        "*   Split Data into Training, Testing & Validation\n",
        "*   Classify using Machine Learning Classifiers"
      ]
    },
    {
      "cell_type": "markdown",
      "metadata": {
        "id": "9AbYiIagsPUx",
        "colab_type": "text"
      },
      "source": [
        "**Import Headers**"
      ]
    },
    {
      "cell_type": "code",
      "metadata": {
        "id": "v7JbjeADsB1A",
        "colab_type": "code",
        "colab": {}
      },
      "source": [
        "import numpy as np\n",
        "import pandas as pd\n",
        "import csv\n",
        "from sklearn.model_selection import train_test_split\n",
        "from sklearn.preprocessing import LabelEncoder, StandardScaler\n",
        "from sklearn.decomposition import PCA\n",
        "from sklearn import metrics\n",
        "from matplotlib import pyplot as plt\n",
        "import seaborn as sns"
      ],
      "execution_count": 0,
      "outputs": []
    },
    {
      "cell_type": "markdown",
      "metadata": {
        "id": "3JOWW08KqP7Q",
        "colab_type": "text"
      },
      "source": [
        "**Make the .csv File Usable**"
      ]
    },
    {
      "cell_type": "code",
      "metadata": {
        "id": "M9boMSIgsS5a",
        "colab_type": "code",
        "colab": {}
      },
      "source": [
        "data = pd.read_csv('/content/drive/My Drive/Project/Data/Working_Data/csv_files/data_50.csv')\n",
        "data = data.drop(['filename'],axis=1)\n",
        "print(\"The shape of the data after removing redundant columns:\",data.shape)"
      ],
      "execution_count": 0,
      "outputs": []
    },
    {
      "cell_type": "markdown",
      "metadata": {
        "id": "F2xsViQnqUJC",
        "colab_type": "text"
      },
      "source": [
        "**Encode the Labels**"
      ]
    },
    {
      "cell_type": "code",
      "metadata": {
        "id": "hUA9OJzsXJOk",
        "colab_type": "code",
        "colab": {}
      },
      "source": [
        "genre_list = data.iloc[:, -1]\n",
        "encoder = LabelEncoder()\n",
        "y = encoder.fit_transform(genre_list)"
      ],
      "execution_count": 0,
      "outputs": []
    },
    {
      "cell_type": "markdown",
      "metadata": {
        "id": "6HhtHYQeqX_1",
        "colab_type": "text"
      },
      "source": [
        "**Calculate Number of Components for PCA**"
      ]
    },
    {
      "cell_type": "code",
      "metadata": {
        "id": "Tincdc-Ys0n6",
        "colab_type": "code",
        "colab": {}
      },
      "source": [
        "scaler = StandardScaler()\n",
        "x = scaler.fit_transform(np.array(data.iloc[:, :-1], dtype = float))\n",
        "pca = PCA().fit(x)\n",
        "plt.figure()\n",
        "plt.plot(np.cumsum(pca.explained_variance_ratio_))\n",
        "plt.xlabel('Number of Components')\n",
        "plt.ylabel('Variance (%)')\n",
        "plt.title('VARIANCE OF DATA')\n",
        "plt.show()"
      ],
      "execution_count": 0,
      "outputs": []
    },
    {
      "cell_type": "markdown",
      "metadata": {
        "colab_type": "text",
        "id": "k3jvSDTrjair"
      },
      "source": [
        "**Split Data into Train, Test & Validation Data**"
      ]
    },
    {
      "cell_type": "code",
      "metadata": {
        "id": "6qsj18LutIOo",
        "colab_type": "code",
        "colab": {}
      },
      "source": [
        "pca = PCA(n_components=800)\n",
        "pca_x = pca.fit_transform(x)\n",
        "x = scaler.fit_transform(np.array(pca_x, dtype = float))\n",
        "x_train, x_test, y_train, y_test = train_test_split(pca_x, y, test_size=0.2)\n",
        "print(\"The shape of x_train is:\",x_train.shape)\n",
        "print(\"The shape of y_train is:\",y_train.shape)\n",
        "print(\"The shape of x_test is:\",x_test.shape)\n",
        "print(\"The shape of y_test is:\",y_test.shape)"
      ],
      "execution_count": 0,
      "outputs": []
    },
    {
      "cell_type": "markdown",
      "metadata": {
        "id": "PAbxp3XtFxCL",
        "colab_type": "text"
      },
      "source": [
        "**Classify using Machine Learning Classifiers**"
      ]
    },
    {
      "cell_type": "markdown",
      "metadata": {
        "id": "wNWQBtZPF4ut",
        "colab_type": "text"
      },
      "source": [
        "*Import Headers*"
      ]
    },
    {
      "cell_type": "code",
      "metadata": {
        "id": "zqoWrJkZF1en",
        "colab_type": "code",
        "colab": {}
      },
      "source": [
        "from sklearn.naive_bayes import BernoulliNB\n",
        "from sklearn.tree import DecisionTreeClassifier\n",
        "from sklearn.naive_bayes import GaussianNB\n",
        "from sklearn.neighbors import KNeighborsClassifier\n",
        "from sklearn.semi_supervised import LabelPropagation\n",
        "from sklearn.semi_supervised import LabelSpreading\n",
        "from sklearn.discriminant_analysis import LinearDiscriminantAnalysis\n",
        "from sklearn.svm import LinearSVC\n",
        "from sklearn.linear_model import LogisticRegression\n",
        "from sklearn.linear_model import LogisticRegressionCV\n",
        "from sklearn.neural_network import MLPClassifier\n",
        "from sklearn.neighbors.nearest_centroid import NearestCentroid\n",
        "from sklearn.discriminant_analysis import QuadraticDiscriminantAnalysis\n",
        "from sklearn.neighbors import RadiusNeighborsClassifier\n",
        "from sklearn.ensemble import RandomForestClassifier\n",
        "from sklearn.linear_model import RidgeClassifier\n",
        "from sklearn.linear_model import RidgeClassifierCV\n",
        "from sklearn.svm import NuSVC\n",
        "from sklearn.svm import SVC\n",
        "from sklearn.gaussian_process import GaussianProcessClassifier\n",
        "from sklearn.gaussian_process.kernels import RBF\n",
        "from sklearn.ensemble import GradientBoostingClassifier\n",
        "from sklearn import linear_model\n",
        "from sklearn.linear_model import Perceptron\n",
        "from sklearn.linear_model import PassiveAggressiveClassifier"
      ],
      "execution_count": 0,
      "outputs": []
    },
    {
      "cell_type": "markdown",
      "metadata": {
        "id": "u-dwRSf2GWFk",
        "colab_type": "text"
      },
      "source": [
        "*Function to Draw Confusion Matrix*"
      ]
    },
    {
      "cell_type": "code",
      "metadata": {
        "id": "g9jztPqWGa3v",
        "colab_type": "code",
        "colab": {}
      },
      "source": [
        "def draw_confusion_matrix(y_test,y_pred,title):\n",
        "  cm = metrics.confusion_matrix(y_test, y_pred)\n",
        "  plt.figure(figsize=(9,9))\n",
        "  sns.heatmap(cm, annot=True, fmt=\".3f\", linewidths=.5, square = True, cmap = 'Greens');\n",
        "  plt.ylabel('Actual label');\n",
        "  plt.xlabel('Predicted label');\n",
        "  plt.title(title, size = 15);\n",
        "  plt.show()"
      ],
      "execution_count": 0,
      "outputs": []
    },
    {
      "cell_type": "markdown",
      "metadata": {
        "id": "HCx0BAI1GdyS",
        "colab_type": "text"
      },
      "source": [
        "*Classification*"
      ]
    },
    {
      "cell_type": "code",
      "metadata": {
        "id": "BFcNqueTG4VI",
        "colab_type": "code",
        "colab": {}
      },
      "source": [
        "name_models = [\"Bernoulli Naive Bayes\",\"Decision Tree\",\"Gaussian Naive Bayes\",\"K Nearest Neighbour\",\"Linear Discriminant Analysis\",\"Linear Support Vector\",\"Logistic Regression\",\n",
        "               \"Logistic Regression with Cross Validation\",\"MLP\",\"Nearest Centroid\",\"Quadratic Discriminant Analysis\",\"Radius Neighbour\",\"Random Forest\",\"Ridge\", \"Ridge Classifier with Cross Validation\", \"NuSVC\",\"SVC\",\n",
        "               \"Gaussian Process\",\"Gradient Boosting\",\"SGD\",\"Perceptron\",\"Passive Agressive\"]\n",
        "i=0\n",
        "\n",
        "model = BernoulliNB()\n",
        "model.fit(x_train,y_train)\n",
        "y_pred = model.predict(x_test)\n",
        "score = (model.score(x_test,y_test)) * 100\n",
        "draw_confusion_matrix(y_test,y_pred,name_models[i])\n",
        "print(name_models[i],\"Accuracy Score:\",str(score),\"%\")\n",
        "i = i + 1\n",
        "\n",
        "model = DecisionTreeClassifier(random_state=0)\n",
        "model.fit(x_train,y_train)\n",
        "y_pred = model.predict(x_test)\n",
        "score = (model.score(x_test,y_test)) * 100\n",
        "draw_confusion_matrix(y_test,y_pred,name_models[i])\n",
        "print(name_models[i],\"Accuracy Score:\",str(score),\"%\")\n",
        "i = i + 1\n",
        "\n",
        "model = GaussianNB()\n",
        "model.fit(x_train,y_train)\n",
        "y_pred = model.predict(x_test)\n",
        "score = (model.score(x_test,y_test)) * 100\n",
        "draw_confusion_matrix(y_test,y_pred,name_models[i])\n",
        "print(name_models[i],\"Accuracy Score:\",str(score),\"%\")\n",
        "i = i + 1\n",
        "\n",
        "model = KNeighborsClassifier(n_neighbors=3)\n",
        "model.fit(x_train,y_train)\n",
        "y_pred = model.predict(x_test)\n",
        "score = (model.score(x_test,y_test)) * 100\n",
        "draw_confusion_matrix(y_test,y_pred,name_models[i])\n",
        "print(name_models[i],\"Accuracy Score:\",str(score),\"%\")\n",
        "i = i + 1\n",
        "\n",
        "model = LinearDiscriminantAnalysis()\n",
        "model.fit(x_train,y_train)\n",
        "y_pred = model.predict(x_test)\n",
        "score = (model.score(x_test,y_test)) * 100\n",
        "draw_confusion_matrix(y_test,y_pred,name_models[i])\n",
        "print(name_models[i],\"Accuracy Score:\",str(score),\"%\")\n",
        "i = i + 1\n",
        "\n",
        "model = LinearSVC(random_state=0, tol=1e-5)\n",
        "model.fit(x_train,y_train)\n",
        "y_pred = model.predict(x_test)\n",
        "score = (model.score(x_test,y_test)) * 100\n",
        "draw_confusion_matrix(y_test,y_pred,name_models[i])\n",
        "print(name_models[i],\"Accuracy Score:\",str(score),\"%\")\n",
        "i = i + 1\n",
        "\n",
        "model = LogisticRegression(random_state=0, solver='lbfgs', multi_class='multinomial')\n",
        "model.fit(x_train,y_train)\n",
        "y_pred = model.predict(x_test)\n",
        "score = (model.score(x_test,y_test)) * 100\n",
        "draw_confusion_matrix(y_test,y_pred,name_models[i])\n",
        "print(name_models[i],\"Accuracy Score:\",str(score),\"%\")\n",
        "i = i + 1\n",
        "\n",
        "model = LogisticRegressionCV(cv=5, random_state=0, multi_class='multinomial')\n",
        "model.fit(x_train,y_train)\n",
        "y_pred = model.predict(x_test)\n",
        "score = (model.score(x_test,y_test)) * 100\n",
        "draw_confusion_matrix(y_test,y_pred,name_models[i])\n",
        "print(name_models[i],\"Accuracy Score:\",str(score),\"%\")\n",
        "i = i + 1\n",
        "\n",
        "model = MLPClassifier(alpha=1, max_iter=1000)\n",
        "model.fit(x_train,y_train)\n",
        "y_pred = model.predict(x_test)\n",
        "score = (model.score(x_test,y_test)) * 100\n",
        "draw_confusion_matrix(y_test,y_pred,name_models[i])\n",
        "print(name_models[i],\"Accuracy Score:\",str(score),\"%\")\n",
        "i = i + 1\n",
        "\n",
        "model = NearestCentroid()\n",
        "model.fit(x_train,y_train)\n",
        "y_pred = model.predict(x_test)\n",
        "score = (model.score(x_test,y_test)) * 100\n",
        "draw_confusion_matrix(y_test,y_pred,name_models[i])\n",
        "print(name_models[i],\"Accuracy Score:\",str(score),\"%\")\n",
        "i = i + 1\n",
        "\n",
        "model = QuadraticDiscriminantAnalysis()\n",
        "model.fit(x_train,y_train)\n",
        "y_pred = model.predict(x_test)\n",
        "score = (model.score(x_test,y_test)) * 100\n",
        "draw_confusion_matrix(y_test,y_pred,name_models[i])\n",
        "print(name_models[i],\"Accuracy Score:\",str(score),\"%\")\n",
        "i = i + 1\n",
        "\n",
        "model = RadiusNeighborsClassifier(radius=120.0)\n",
        "model.fit(x_train,y_train)\n",
        "y_pred = model.predict(x_test)\n",
        "score = (model.score(x_test,y_test)) * 100\n",
        "draw_confusion_matrix(y_test,y_pred,name_models[i])\n",
        "print(name_models[i],\"Accuracy Score:\",str(score),\"%\")\n",
        "i = i + 1\n",
        "\n",
        "model = RandomForestClassifier(n_estimators=100, max_depth=9,random_state=0)\n",
        "model.fit(x_train,y_train)\n",
        "y_pred = model.predict(x_test)\n",
        "score = (model.score(x_test,y_test)) * 100\n",
        "draw_confusion_matrix(y_test,y_pred,name_models[i])\n",
        "print(name_models[i],\"Accuracy Score:\",str(score),\"%\")\n",
        "i = i + 1\n",
        "\n",
        "model = RidgeClassifier()\n",
        "model.fit(x_train,y_train)\n",
        "y_pred = model.predict(x_test)\n",
        "score = (model.score(x_test,y_test)) * 100\n",
        "draw_confusion_matrix(y_test,y_pred,name_models[i])\n",
        "print(name_models[i],\"Accuracy Score:\",str(score),\"%\")\n",
        "i = i + 1\n",
        "\n",
        "model = RidgeClassifierCV(alphas=[1e-3, 1e-2, 1e-1, 1])\n",
        "model.fit(x_train,y_train)\n",
        "y_pred = model.predict(x_test)\n",
        "score = (model.score(x_test,y_test)) * 100\n",
        "draw_confusion_matrix(y_test,y_pred,name_models[i])\n",
        "print(name_models[i],\"Accuracy Score:\",str(score),\"%\")\n",
        "i = i + 1\n",
        "\n",
        "model = NuSVC(gamma='scale')\n",
        "model.fit(x_train,y_train)\n",
        "y_pred = model.predict(x_test)\n",
        "score = (model.score(x_test,y_test)) * 100\n",
        "draw_confusion_matrix(y_test,y_pred,name_models[i])\n",
        "print(name_models[i],\"Accuracy Score:\",str(score),\"%\")\n",
        "i = i + 1\n",
        "\n",
        "model = SVC(gamma='auto')\n",
        "model.fit(x_train,y_train)\n",
        "y_pred = model.predict(x_test)\n",
        "score = (model.score(x_test,y_test)) * 100\n",
        "draw_confusion_matrix(y_test,y_pred,name_models[i])\n",
        "print(name_models[i],\"Accuracy Score:\",str(score),\"%\")\n",
        "i = i + 1\n",
        "\n",
        "model = GaussianProcessClassifier(kernel=1.0 * RBF(),random_state=0)\n",
        "model.fit(x_train,y_train)\n",
        "y_pred = model.predict(x_test)\n",
        "score = (model.score(x_test,y_test)) * 100\n",
        "draw_confusion_matrix(y_test,y_pred,name_models[i])\n",
        "print(name_models[i],\"Accuracy Score:\",str(score),\"%\")\n",
        "i = i + 1\n",
        "\n",
        "model = GradientBoostingClassifier()\n",
        "model.fit(x_train,y_train)\n",
        "y_pred = model.predict(x_test)\n",
        "score = (model.score(x_test,y_test)) * 100\n",
        "draw_confusion_matrix(y_test,y_pred,name_models[i])\n",
        "print(name_models[i],\"Accuracy Score:\",str(score),\"%\")\n",
        "i = i + 1\n",
        "\n",
        "model = linear_model.SGDClassifier(max_iter=1000, tol=1e-3)\n",
        "model.fit(x_train,y_train)\n",
        "y_pred = model.predict(x_test)\n",
        "score = (model.score(x_test,y_test)) * 100\n",
        "draw_confusion_matrix(y_test,y_pred,name_models[i])\n",
        "print(name_models[i],\"Accuracy Score:\",str(score),\"%\")\n",
        "i = i + 1\n",
        "\n",
        "model = Perceptron(tol=1e-3, random_state=0)\n",
        "model.fit(x_train,y_train)\n",
        "y_pred = model.predict(x_test)\n",
        "score = (model.score(x_test,y_test)) * 100\n",
        "draw_confusion_matrix(y_test,y_pred,name_models[i])\n",
        "print(name_models[i],\"Accuracy Score:\",str(score),\"%\")\n",
        "i = i + 1\n",
        "\n",
        "model = PassiveAggressiveClassifier(max_iter=1000, random_state=0,tol=1e-3)\n",
        "model.fit(x_train,y_train)\n",
        "y_pred = model.predict(x_test)\n",
        "score = (model.score(x_test,y_test)) * 100\n",
        "draw_confusion_matrix(y_test,y_pred,name_models[i])\n",
        "print(name_models[i],\"Accuracy Score:\",str(score),\"%\")\n",
        "i = i + 1\n",
        "\n",
        "print(\"Part Eight Successful!\")"
      ],
      "execution_count": 0,
      "outputs": []
    }
  ]
}