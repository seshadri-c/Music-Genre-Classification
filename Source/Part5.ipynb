{
  "nbformat": 4,
  "nbformat_minor": 0,
  "metadata": {
    "colab": {
      "name": "Part5.ipynb",
      "provenance": [],
      "collapsed_sections": []
    },
    "kernelspec": {
      "name": "python3",
      "display_name": "Python 3"
    }
  },
  "cells": [
    {
      "cell_type": "markdown",
      "metadata": {
        "id": "cxCgA7MeT5ZT",
        "colab_type": "text"
      },
      "source": [
        "Part Five:\n",
        "\n",
        "---\n",
        "Long Short Term Memory\n",
        "*   Encode the Labels\n",
        "*   Split Data into Training, Testing & Validation\n",
        "*   Define a Sequential Model using Keras\n",
        "*   Plotting the LSTM Model\n",
        "*   Compile the Model with Various Optimizers\n",
        "*   Plot Bargraph for All the Different Optimizers"
      ]
    },
    {
      "cell_type": "markdown",
      "metadata": {
        "id": "Oe-g74zlU7ZW",
        "colab_type": "text"
      },
      "source": [
        "**Import Headers**"
      ]
    },
    {
      "cell_type": "code",
      "metadata": {
        "id": "eCWkafHgT1n4",
        "colab_type": "code",
        "colab": {}
      },
      "source": [
        "import pickle as pkl\n",
        "import numpy as np\n",
        "from matplotlib import pyplot as plt\n",
        "import seaborn as sns #for displaying the colourful confusion matrix\n",
        "%tensorflow_version 1.x #default tensorflow version on colab is 2.x but the code is for version 1.x hence this step continues to use tensorflow in 1.x version\n",
        "import tensorflow as tf #data processing architecture\n",
        "print (\"TensorFlow version: \" + tf.__version__)\n",
        "from sklearn import preprocessing\n",
        "from sklearn.model_selection import train_test_split\n",
        "from tensorflow.keras import datasets, layers, models\n",
        "from sklearn import metrics\n",
        "from keras.models import Sequential\n",
        "from keras.layers.recurrent import LSTM\n",
        "from keras.layers import Dense\n",
        "from keras.optimizers import Adam \n",
        "from keras.utils import plot_model\n",
        "import warnings\n",
        "warnings.filterwarnings('ignore')"
      ],
      "execution_count": 0,
      "outputs": []
    },
    {
      "cell_type": "markdown",
      "metadata": {
        "id": "923C9oF0VQ1_",
        "colab_type": "text"
      },
      "source": [
        "**Load Pickle Files & Encode Labels**"
      ]
    },
    {
      "cell_type": "code",
      "metadata": {
        "id": "ggp7o1QaVVAO",
        "colab_type": "code",
        "colab": {}
      },
      "source": [
        "with open('/content/drive/My Drive/Project/Data/Working_Data/DATA_PREPROCESS_LSTM_5.pkl','rb') as f:\n",
        "    X = pkl.load(f)\n",
        "with open('/content/drive/My Drive/Project/Data/Working_Data/GENRE_LIST_LSTM_5.pkl','rb') as f:\n",
        "    Y = pkl.load(f)\n",
        "le = preprocessing.LabelEncoder()\n",
        "y_label_encoded = le.fit_transform(Y)"
      ],
      "execution_count": 0,
      "outputs": []
    },
    {
      "cell_type": "markdown",
      "metadata": {
        "id": "husRRPgtVhaI",
        "colab_type": "text"
      },
      "source": [
        "**Split Data into Train, Test & Validation Data**"
      ]
    },
    {
      "cell_type": "code",
      "metadata": {
        "id": "a-_bMo5nVnxt",
        "colab_type": "code",
        "colab": {}
      },
      "source": [
        "X_train, X_test, Y_train, Y_test = train_test_split(X, y_label_encoded, test_size=0.2, random_state=20)\n",
        "X_train, X_val, Y_train, Y_val = train_test_split(X_train, Y_train, test_size=0.2, random_state=20)\n",
        "print(\"The shape of x-train is:\",X_train.shape)\n",
        "print(\"The shape of y-train is:\",Y_train.shape)\n",
        "print(\"The shape of x-test is:\",X_test.shape)\n",
        "print(\"The shape of y-test is:\",Y_test.shape)\n",
        "print(\"The shape of x-validation is:\",X_val.shape)\n",
        "print(\"The shape of y-validation is:\",Y_val.shape)"
      ],
      "execution_count": 0,
      "outputs": []
    },
    {
      "cell_type": "markdown",
      "metadata": {
        "id": "y5ZulB6BWC4L",
        "colab_type": "text"
      },
      "source": [
        "**Set Input Shape & Define a Sequential Model using Keras**"
      ]
    },
    {
      "cell_type": "code",
      "metadata": {
        "id": "H1fH2kNpWI26",
        "colab_type": "code",
        "colab": {}
      },
      "source": [
        "input_shape = (X.shape[1],X.shape[2])\n",
        "model = Sequential()\n",
        "model.add(LSTM(units=128, dropout=0.05, recurrent_dropout=0.35, return_sequences=True, input_shape=input_shape))\n",
        "model.add(LSTM(units=64,  dropout=0.05, recurrent_dropout=0.35, return_sequences=True))\n",
        "model.add(LSTM(units=32,  dropout=0.05, recurrent_dropout=0.35, return_sequences=False))\n",
        "model.add(Dense(units = 200, activation='sigmoid'))\n",
        "model.add(Dense(units = 10, activation=\"softmax\"))\n",
        "model.summary()"
      ],
      "execution_count": 0,
      "outputs": []
    },
    {
      "cell_type": "markdown",
      "metadata": {
        "id": "-iwdPhLsXv8l",
        "colab_type": "text"
      },
      "source": [
        "**Plot the Model & Initialise Optimizer & Accuracy List**"
      ]
    },
    {
      "cell_type": "code",
      "metadata": {
        "id": "Ttanp28WYEHm",
        "colab_type": "code",
        "colab": {}
      },
      "source": [
        "plot_model(model, to_file='/content/model.png')\n",
        "optimizer_list = []\n",
        "accuracy_list = []"
      ],
      "execution_count": 0,
      "outputs": []
    },
    {
      "cell_type": "markdown",
      "metadata": {
        "id": "7XfMmhBlJH5U",
        "colab_type": "text"
      },
      "source": [
        "**Function to Draw Confusion Matrix**"
      ]
    },
    {
      "cell_type": "code",
      "metadata": {
        "id": "E9p2v3_tJOEJ",
        "colab_type": "code",
        "colab": {}
      },
      "source": [
        "def draw_confusion_matrix(y_test,y_pred,title):\n",
        "  cm = metrics.confusion_matrix(y_test, y_pred)\n",
        "  plt.figure(figsize=(9,9))\n",
        "  sns.heatmap(cm, annot=True, fmt=\".3f\", linewidths=.5, square = True, cmap = 'Blues');\n",
        "  plt.ylabel('Actual label');\n",
        "  plt.xlabel('Predicted label');\n",
        "  plt.title(title, size = 15);\n",
        "  plt.show()"
      ],
      "execution_count": 0,
      "outputs": []
    },
    {
      "cell_type": "markdown",
      "metadata": {
        "id": "-Hm8ltUaYPQe",
        "colab_type": "text"
      },
      "source": [
        "**Compile Model with SGD Optimizer**"
      ]
    },
    {
      "cell_type": "markdown",
      "metadata": {
        "id": "pgehQ-T9bCkM",
        "colab_type": "text"
      },
      "source": [
        "*Train the Model*"
      ]
    },
    {
      "cell_type": "code",
      "metadata": {
        "id": "YtzMTaPoY1Nf",
        "colab_type": "code",
        "colab": {}
      },
      "source": [
        "model.compile(optimizer='sgd',loss='sparse_categorical_crossentropy',metrics=['accuracy'])\n",
        "history = model.fit(X_train, Y_train, batch_size=32, epochs=200, validation_data=(X_val, Y_val))"
      ],
      "execution_count": 0,
      "outputs": []
    },
    {
      "cell_type": "markdown",
      "metadata": {
        "id": "qVjQGciAZarZ",
        "colab_type": "text"
      },
      "source": [
        "*Plot the Training & Validation Curve*"
      ]
    },
    {
      "cell_type": "code",
      "metadata": {
        "id": "HvkETaQ9ZliY",
        "colab_type": "code",
        "colab": {}
      },
      "source": [
        "d = history.history\n",
        "training_loss = d['loss']\n",
        "validation_loss = d['val_loss']\n",
        "%matplotlib inline\n",
        "plt.plot(training_loss, label = 'Train Loss')\n",
        "plt.plot(validation_loss, label = 'Validation Loss')\n",
        "plt.legend()"
      ],
      "execution_count": 0,
      "outputs": []
    },
    {
      "cell_type": "markdown",
      "metadata": {
        "id": "NhZUbVItaLOF",
        "colab_type": "text"
      },
      "source": [
        "*Calculate Accuracy of the Model & Print the Confusion Matrix*"
      ]
    },
    {
      "cell_type": "code",
      "metadata": {
        "id": "iwObRZLmaOTo",
        "colab_type": "code",
        "colab": {}
      },
      "source": [
        "y_test = Y_test\n",
        "y_pred = []\n",
        "Y_pred = model.predict(X_test)\n",
        "c=0\n",
        "for i in range(len(Y_pred)):\n",
        "    y_pred.append(np.argmax(Y_pred[i]))\n",
        "    if(np.argmax(Y_pred[i]) == Y_test[i]):\n",
        "        c+=1\n",
        "accuracy = c/len(Y_pred) * 100 \n",
        "optimizer_list.append(\"SGD\")\n",
        "accuracy_list.append(accuracy) \n",
        "print(\"The accuracy is: \"+str(accuracy)+\"%.\")\n",
        "draw_confusion_matrix(y_test,y_pred,\"SGD Optimizer\")"
      ],
      "execution_count": 0,
      "outputs": []
    },
    {
      "cell_type": "markdown",
      "metadata": {
        "id": "s99OFfdRfB_W",
        "colab_type": "text"
      },
      "source": [
        "**Compile Model with RMSprop Optimizer**"
      ]
    },
    {
      "cell_type": "markdown",
      "metadata": {
        "id": "Wnu-Wc4Rfs8u",
        "colab_type": "text"
      },
      "source": [
        "*Train the Model*"
      ]
    },
    {
      "cell_type": "code",
      "metadata": {
        "id": "FQpcOEi_fy_U",
        "colab_type": "code",
        "colab": {}
      },
      "source": [
        "model.compile(optimizer='rmsprop',loss='sparse_categorical_crossentropy',metrics=['accuracy'])\n",
        "history = model.fit(X_train, Y_train, batch_size=32, epochs=200, validation_data=(X_val, Y_val))"
      ],
      "execution_count": 0,
      "outputs": []
    },
    {
      "cell_type": "markdown",
      "metadata": {
        "colab_type": "text",
        "id": "sna7BUOl7YZI"
      },
      "source": [
        "*Plot the Training & Validation Curve*"
      ]
    },
    {
      "cell_type": "code",
      "metadata": {
        "id": "M9Ms8DJMf-07",
        "colab_type": "code",
        "colab": {}
      },
      "source": [
        "d = history.history\n",
        "training_loss = d['loss']\n",
        "validation_loss = d['val_loss']\n",
        "%matplotlib inline\n",
        "plt.plot(training_loss, label = 'Train Loss')\n",
        "plt.plot(validation_loss, label = 'Validation Loss')\n",
        "plt.legend()"
      ],
      "execution_count": 0,
      "outputs": []
    },
    {
      "cell_type": "markdown",
      "metadata": {
        "colab_type": "text",
        "id": "MAUGwhwlgJ5r"
      },
      "source": [
        "*Calculate Accuracy of the Model & Print the Confusion Matrix*"
      ]
    },
    {
      "cell_type": "code",
      "metadata": {
        "colab_type": "code",
        "id": "MIk65L4lgWrF",
        "colab": {}
      },
      "source": [
        "y_test = Y_test\n",
        "y_pred = []\n",
        "Y_pred = model.predict(X_test)\n",
        "c=0\n",
        "for i in range(len(Y_pred)):\n",
        "    y_pred.append(np.argmax(Y_pred[i]))\n",
        "    if(np.argmax(Y_pred[i]) == Y_test[i]):\n",
        "        c+=1\n",
        "accuracy = c/len(Y_pred) * 100 \n",
        "optimizer_list.append(\"RMSprop\")\n",
        "accuracy_list.append(accuracy) \n",
        "print(\"The accuracy is: \"+str(accuracy)+\"%.\")\n",
        "draw_confusion_matrix(y_test,y_pred,\"RMSprop Optimizer\")"
      ],
      "execution_count": 0,
      "outputs": []
    },
    {
      "cell_type": "markdown",
      "metadata": {
        "colab_type": "text",
        "id": "sm7gz1ifjpFe"
      },
      "source": [
        "**Compile Model with Adagrad Optimizer**"
      ]
    },
    {
      "cell_type": "markdown",
      "metadata": {
        "colab_type": "text",
        "id": "raVodEw5lifq"
      },
      "source": [
        "*Train the Model*"
      ]
    },
    {
      "cell_type": "code",
      "metadata": {
        "colab_type": "code",
        "id": "crkD_p_-lonT",
        "colab": {}
      },
      "source": [
        "model.compile(optimizer='adagrad',loss='sparse_categorical_crossentropy',metrics=['accuracy'])\n",
        "history = model.fit(X_train, Y_train, batch_size=32, epochs=200, validation_data=(X_val, Y_val))"
      ],
      "execution_count": 0,
      "outputs": []
    },
    {
      "cell_type": "markdown",
      "metadata": {
        "colab_type": "text",
        "id": "TuhQlNg27Zx-"
      },
      "source": [
        "*Plot the Training & Validation Curve*"
      ]
    },
    {
      "cell_type": "code",
      "metadata": {
        "colab_type": "code",
        "id": "eHBpKnwmnH5K",
        "colab": {}
      },
      "source": [
        "d = history.history\n",
        "training_loss = d['loss']\n",
        "validation_loss = d['val_loss']\n",
        "%matplotlib inline\n",
        "plt.plot(training_loss, label = 'Train Loss')\n",
        "plt.plot(validation_loss, label = 'Validation Loss')\n",
        "plt.legend()"
      ],
      "execution_count": 0,
      "outputs": []
    },
    {
      "cell_type": "markdown",
      "metadata": {
        "colab_type": "text",
        "id": "dcTV-PlpnR3J"
      },
      "source": [
        "*Calculate Accuracy of the Model & Print the Confusion Matrix*"
      ]
    },
    {
      "cell_type": "code",
      "metadata": {
        "colab_type": "code",
        "id": "sXZmYvnjnclS",
        "colab": {}
      },
      "source": [
        "y_test = Y_test\n",
        "y_pred = []\n",
        "Y_pred = model.predict(X_test)\n",
        "c=0\n",
        "for i in range(len(Y_pred)):\n",
        "    y_pred.append(np.argmax(Y_pred[i]))\n",
        "    if(np.argmax(Y_pred[i]) == Y_test[i]):\n",
        "        c+=1\n",
        "accuracy = c/len(Y_pred) * 100 \n",
        "optimizer_list.append(\"Adagrad\")\n",
        "accuracy_list.append(accuracy) \n",
        "print(\"The accuracy is: \"+str(accuracy)+\"%.\")\n",
        "draw_confusion_matrix(y_test,y_pred,\"Adagrad Optimizer\")"
      ],
      "execution_count": 0,
      "outputs": []
    },
    {
      "cell_type": "markdown",
      "metadata": {
        "colab_type": "text",
        "id": "mz0pFPILjvAI"
      },
      "source": [
        "**Compile Model with Adadelta Optimizer**"
      ]
    },
    {
      "cell_type": "markdown",
      "metadata": {
        "colab_type": "text",
        "id": "WgRF9Hk8ljJb"
      },
      "source": [
        "*Train the Model*"
      ]
    },
    {
      "cell_type": "code",
      "metadata": {
        "colab_type": "code",
        "id": "KJbE9rFrlpS4",
        "colab": {}
      },
      "source": [
        "model.compile(optimizer='adadelta',loss='sparse_categorical_crossentropy',metrics=['accuracy'])\n",
        "history = model.fit(X_train, Y_train, batch_size=32, epochs=200, validation_data=(X_val, Y_val))"
      ],
      "execution_count": 0,
      "outputs": []
    },
    {
      "cell_type": "markdown",
      "metadata": {
        "colab_type": "text",
        "id": "6DHl7nP07bj0"
      },
      "source": [
        "*Plot the Training & Validation Curve*"
      ]
    },
    {
      "cell_type": "code",
      "metadata": {
        "colab_type": "code",
        "id": "j8JFcqhFnI2u",
        "colab": {}
      },
      "source": [
        "d = history.history\n",
        "training_loss = d['loss']\n",
        "validation_loss = d['val_loss']\n",
        "%matplotlib inline\n",
        "plt.plot(training_loss, label = 'Train Loss')\n",
        "plt.plot(validation_loss, label = 'Validation Loss')\n",
        "plt.legend()"
      ],
      "execution_count": 0,
      "outputs": []
    },
    {
      "cell_type": "markdown",
      "metadata": {
        "colab_type": "text",
        "id": "tqa8hsiCnTAf"
      },
      "source": [
        "*Calculate Accuracy of the Model & Print the Confusion Matrix*"
      ]
    },
    {
      "cell_type": "code",
      "metadata": {
        "colab_type": "code",
        "id": "u3oTregNneyF",
        "colab": {}
      },
      "source": [
        "y_test = Y_test\n",
        "y_pred = []\n",
        "Y_pred = model.predict(X_test)\n",
        "c=0\n",
        "for i in range(len(Y_pred)):\n",
        "    y_pred.append(np.argmax(Y_pred[i]))\n",
        "    if(np.argmax(Y_pred[i]) == Y_test[i]):\n",
        "        c+=1\n",
        "accuracy = c/len(Y_pred) * 100 \n",
        "optimizer_list.append(\"Adadelta\")\n",
        "accuracy_list.append(accuracy) \n",
        "print(\"The accuracy is: \"+str(accuracy)+\"%.\")\n",
        "draw_confusion_matrix(y_test,y_pred,\"Adadelta Optimizer\")"
      ],
      "execution_count": 0,
      "outputs": []
    },
    {
      "cell_type": "markdown",
      "metadata": {
        "colab_type": "text",
        "id": "68c6wCG0kYck"
      },
      "source": [
        "**Compile Model with Adam Optimizer**"
      ]
    },
    {
      "cell_type": "markdown",
      "metadata": {
        "colab_type": "text",
        "id": "unCm0ZmNlj9T"
      },
      "source": [
        "*Train the Model*"
      ]
    },
    {
      "cell_type": "code",
      "metadata": {
        "colab_type": "code",
        "id": "YtEn2D3vlqW7",
        "colab": {}
      },
      "source": [
        "model.compile(optimizer='adam',loss='sparse_categorical_crossentropy',metrics=['accuracy'])\n",
        "history = model.fit(X_train, Y_train, batch_size=32, epochs=200, validation_data=(X_val, Y_val))"
      ],
      "execution_count": 0,
      "outputs": []
    },
    {
      "cell_type": "markdown",
      "metadata": {
        "colab_type": "text",
        "id": "oupYiUwN7djf"
      },
      "source": [
        "*Plot the Training & Validation Curve*"
      ]
    },
    {
      "cell_type": "code",
      "metadata": {
        "colab_type": "code",
        "id": "ZXS-e-b6nJ_I",
        "colab": {}
      },
      "source": [
        "d = history.history\n",
        "training_loss = d['loss']\n",
        "validation_loss = d['val_loss']\n",
        "%matplotlib inline\n",
        "plt.plot(training_loss, label = 'Train Loss')\n",
        "plt.plot(validation_loss, label = 'Validation Loss')\n",
        "plt.legend()"
      ],
      "execution_count": 0,
      "outputs": []
    },
    {
      "cell_type": "markdown",
      "metadata": {
        "colab_type": "text",
        "id": "LJ6_Cn15nTyV"
      },
      "source": [
        "*Calculate Accuracy of the Model & Print the Confusion Matrix*"
      ]
    },
    {
      "cell_type": "code",
      "metadata": {
        "colab_type": "code",
        "id": "JaYVf-3enf3e",
        "colab": {}
      },
      "source": [
        "y_test = Y_test\n",
        "y_pred = []\n",
        "Y_pred = model.predict(X_test)\n",
        "c=0\n",
        "for i in range(len(Y_pred)):\n",
        "    y_pred.append(np.argmax(Y_pred[i]))\n",
        "    if(np.argmax(Y_pred[i]) == Y_test[i]):\n",
        "        c+=1\n",
        "accuracy = c/len(Y_pred) * 100 \n",
        "optimizer_list.append(\"Adam\")\n",
        "accuracy_list.append(accuracy) \n",
        "print(\"The accuracy is: \"+str(accuracy)+\"%.\")\n",
        "draw_confusion_matrix(y_test,y_pred,\"Adam Optimizer\")"
      ],
      "execution_count": 0,
      "outputs": []
    },
    {
      "cell_type": "markdown",
      "metadata": {
        "colab_type": "text",
        "id": "Rpm8iBlckeuL"
      },
      "source": [
        "**Compile Model with Adamax Optimizer**"
      ]
    },
    {
      "cell_type": "markdown",
      "metadata": {
        "colab_type": "text",
        "id": "oaT_N8WFlkcX"
      },
      "source": [
        "*Train the Model*"
      ]
    },
    {
      "cell_type": "code",
      "metadata": {
        "colab_type": "code",
        "id": "Nuc8X3bNlrsl",
        "colab": {}
      },
      "source": [
        "model.compile(optimizer='adamax',loss='sparse_categorical_crossentropy',metrics=['accuracy'])\n",
        "history = model.fit(X_train, Y_train, batch_size=32, epochs=200, validation_data=(X_val, Y_val))"
      ],
      "execution_count": 0,
      "outputs": []
    },
    {
      "cell_type": "markdown",
      "metadata": {
        "colab_type": "text",
        "id": "Sf481UTT7fDp"
      },
      "source": [
        "*Plot the Training & Validation Curve*"
      ]
    },
    {
      "cell_type": "code",
      "metadata": {
        "colab_type": "code",
        "id": "DjqB_JgUnKqv",
        "colab": {}
      },
      "source": [
        "d = history.history\n",
        "training_loss = d['loss']\n",
        "validation_loss = d['val_loss']\n",
        "%matplotlib inline\n",
        "plt.plot(training_loss, label = 'Train Loss')\n",
        "plt.plot(validation_loss, label = 'Validation Loss')\n",
        "plt.legend()"
      ],
      "execution_count": 0,
      "outputs": []
    },
    {
      "cell_type": "markdown",
      "metadata": {
        "colab_type": "text",
        "id": "wpmuY43_nUgi"
      },
      "source": [
        "*Calculate Accuracy of the Model & Print the Confusion Matrix*"
      ]
    },
    {
      "cell_type": "code",
      "metadata": {
        "colab_type": "code",
        "id": "rrUPbEUtng-k",
        "colab": {}
      },
      "source": [
        "y_test = Y_test\n",
        "y_pred = []\n",
        "Y_pred = model.predict(X_test)\n",
        "c=0\n",
        "for i in range(len(Y_pred)):\n",
        "    y_pred.append(np.argmax(Y_pred[i]))\n",
        "    if(np.argmax(Y_pred[i]) == Y_test[i]):\n",
        "        c+=1\n",
        "accuracy = c/len(Y_pred) * 100 \n",
        "optimizer_list.append(\"Adamax\")\n",
        "accuracy_list.append(accuracy) \n",
        "print(\"The accuracy is: \"+str(accuracy)+\"%.\")\n",
        "draw_confusion_matrix(y_test,y_pred,\"Adamax Optimizer\")"
      ],
      "execution_count": 0,
      "outputs": []
    },
    {
      "cell_type": "markdown",
      "metadata": {
        "colab_type": "text",
        "id": "1w-X85OkklLH"
      },
      "source": [
        "**Compile Model with Nadam Optimizer**"
      ]
    },
    {
      "cell_type": "markdown",
      "metadata": {
        "colab_type": "text",
        "id": "0ahaxrDDlk8b"
      },
      "source": [
        "*Train the Model*"
      ]
    },
    {
      "cell_type": "code",
      "metadata": {
        "colab_type": "code",
        "id": "0bV5vhPDlsfb",
        "colab": {}
      },
      "source": [
        "model.compile(optimizer='nadam',loss='sparse_categorical_crossentropy',metrics=['accuracy'])\n",
        "history = model.fit(X_train, Y_train, batch_size=32, epochs=200, validation_data=(X_val, Y_val))"
      ],
      "execution_count": 0,
      "outputs": []
    },
    {
      "cell_type": "markdown",
      "metadata": {
        "colab_type": "text",
        "id": "THBqB-Pg7k-N"
      },
      "source": [
        "*Plot the Training & Validation Curve*"
      ]
    },
    {
      "cell_type": "code",
      "metadata": {
        "colab_type": "code",
        "id": "ubccO3m1nLcl",
        "colab": {}
      },
      "source": [
        "d = history.history\n",
        "training_loss = d['loss']\n",
        "validation_loss = d['val_loss']\n",
        "%matplotlib inline\n",
        "plt.plot(training_loss, label = 'Train Loss')\n",
        "plt.plot(validation_loss, label = 'Validation Loss')\n",
        "plt.legend()"
      ],
      "execution_count": 0,
      "outputs": []
    },
    {
      "cell_type": "markdown",
      "metadata": {
        "colab_type": "text",
        "id": "dZ2kpPLknVux"
      },
      "source": [
        "*Calculate Accuracy of the Model & Print the Confusion Matrix*"
      ]
    },
    {
      "cell_type": "code",
      "metadata": {
        "colab_type": "code",
        "id": "zMTFn40fnh7x",
        "colab": {}
      },
      "source": [
        "y_test = Y_test\n",
        "y_pred = []\n",
        "Y_pred = model.predict(X_test)\n",
        "c=0\n",
        "for i in range(len(Y_pred)):\n",
        "    y_pred.append(np.argmax(Y_pred[i]))\n",
        "    if(np.argmax(Y_pred[i]) == Y_test[i]):\n",
        "        c+=1\n",
        "accuracy = c/len(Y_pred) * 100 \n",
        "optimizer_list.append(\"Nadam\")\n",
        "accuracy_list.append(accuracy) \n",
        "print(\"The accuracy is: \"+str(accuracy)+\"%.\")\n",
        "draw_confusion_matrix(y_test,y_pred,\"Nadam Optimizer\")"
      ],
      "execution_count": 0,
      "outputs": []
    },
    {
      "cell_type": "markdown",
      "metadata": {
        "id": "DY5R1j6un-wa",
        "colab_type": "text"
      },
      "source": [
        "**Plot Bargraphs for All Optimizers**"
      ]
    },
    {
      "cell_type": "code",
      "metadata": {
        "id": "OvKyK_dApNQe",
        "colab_type": "code",
        "colab": {}
      },
      "source": [
        "fig = plt.figure()\n",
        "ax = fig.add_axes([0,0,1,1])\n",
        "ax.bar(optimizer_list,accuracy_list)\n",
        "plt.show()\n",
        "print(\"Part Five Successful!\")"
      ],
      "execution_count": 0,
      "outputs": []
    }
  ]
}