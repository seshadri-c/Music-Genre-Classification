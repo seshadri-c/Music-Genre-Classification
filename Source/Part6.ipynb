{
  "nbformat": 4,
  "nbformat_minor": 0,
  "metadata": {
    "colab": {
      "name": "Part6.ipynb",
      "provenance": [],
      "collapsed_sections": []
    },
    "kernelspec": {
      "name": "python3",
      "display_name": "Python 3"
    }
  },
  "cells": [
    {
      "cell_type": "markdown",
      "metadata": {
        "id": "29lc_2c9p1lm",
        "colab_type": "text"
      },
      "source": [
        "Part Six:\n",
        "\n",
        "---\n",
        "Simple Neural Network\n",
        "*   Make the .csv File Usable\n",
        "*   Encode the Labels\n",
        "*   Calculate Number of Components for PCA\n",
        "*   Split Data into Training, Testing & Validation\n",
        "*   Classify with Keras"
      ]
    },
    {
      "cell_type": "markdown",
      "metadata": {
        "id": "zz3kOSnRqC7W",
        "colab_type": "text"
      },
      "source": [
        "**Import Headers**"
      ]
    },
    {
      "cell_type": "code",
      "metadata": {
        "id": "VKX-o-WHpupH",
        "colab_type": "code",
        "colab": {}
      },
      "source": [
        "import numpy as np\n",
        "import pandas as pd\n",
        "import csv\n",
        "from sklearn.model_selection import train_test_split\n",
        "from sklearn.preprocessing import LabelEncoder, StandardScaler\n",
        "from sklearn import metrics\n",
        "from sklearn.decomposition import PCA\n",
        "from matplotlib import pyplot as plt\n",
        "from keras import models\n",
        "from keras import layers\n",
        "import seaborn as sns"
      ],
      "execution_count": 0,
      "outputs": []
    },
    {
      "cell_type": "markdown",
      "metadata": {
        "id": "3JOWW08KqP7Q",
        "colab_type": "text"
      },
      "source": [
        "**Make the .csv File Usable**"
      ]
    },
    {
      "cell_type": "code",
      "metadata": {
        "id": "M9boMSIgsS5a",
        "colab_type": "code",
        "colab": {}
      },
      "source": [
        "data = pd.read_csv('/content/drive/My Drive/Project/Data/Working_Data/csv_files/data_50.csv')\n",
        "data = data.drop(['filename'],axis=1)\n",
        "print(\"The shape of the data after removing redundant columns:\",data.shape)"
      ],
      "execution_count": 0,
      "outputs": []
    },
    {
      "cell_type": "markdown",
      "metadata": {
        "id": "F2xsViQnqUJC",
        "colab_type": "text"
      },
      "source": [
        "**Encode the Labels**"
      ]
    },
    {
      "cell_type": "code",
      "metadata": {
        "id": "utk9ocDdsu0W",
        "colab_type": "code",
        "colab": {}
      },
      "source": [
        "genre_list = data.iloc[:, -1]\n",
        "encoder = LabelEncoder()\n",
        "y = encoder.fit_transform(genre_list)"
      ],
      "execution_count": 0,
      "outputs": []
    },
    {
      "cell_type": "markdown",
      "metadata": {
        "id": "6HhtHYQeqX_1",
        "colab_type": "text"
      },
      "source": [
        "**Calculate Number of Components for PCA**"
      ]
    },
    {
      "cell_type": "code",
      "metadata": {
        "id": "Tincdc-Ys0n6",
        "colab_type": "code",
        "colab": {}
      },
      "source": [
        "scaler = StandardScaler()\n",
        "x = scaler.fit_transform(np.array(data.iloc[:, :-1], dtype = float))\n",
        "pca = PCA().fit(x)\n",
        "plt.figure()\n",
        "plt.plot(np.cumsum(pca.explained_variance_ratio_))\n",
        "plt.xlabel('Number of Components')\n",
        "plt.ylabel('Variance (%)')\n",
        "plt.title('VARIANCE OF DATA')\n",
        "plt.show()"
      ],
      "execution_count": 0,
      "outputs": []
    },
    {
      "cell_type": "markdown",
      "metadata": {
        "id": "WHvssQrtqcBd",
        "colab_type": "text"
      },
      "source": [
        "**Split Data into Train, Test & Validation Data**"
      ]
    },
    {
      "cell_type": "code",
      "metadata": {
        "id": "6qsj18LutIOo",
        "colab_type": "code",
        "colab": {}
      },
      "source": [
        "pca = PCA(n_components=800)\n",
        "pca_x = pca.fit_transform(x)\n",
        "x_train, x_test, y_train, y_test = train_test_split(pca_x, y, test_size=0.2)\n",
        "print(\"The shape of x_train is:\",x_train.shape)\n",
        "print(\"The shape of y_train is:\",y_train.shape)\n",
        "print(\"The shape of x_test is:\",x_test.shape)\n",
        "print(\"The shape of y_test is:\",y_test.shape)"
      ],
      "execution_count": 0,
      "outputs": []
    },
    {
      "cell_type": "markdown",
      "metadata": {
        "id": "rz3bdxEUt5UV",
        "colab_type": "text"
      },
      "source": [
        "**Classify with Keras**"
      ]
    },
    {
      "cell_type": "markdown",
      "metadata": {
        "id": "PIuJhsxpt8a7",
        "colab_type": "text"
      },
      "source": [
        "*Build the Network*"
      ]
    },
    {
      "cell_type": "code",
      "metadata": {
        "id": "iZ3mHlnsuJJ0",
        "colab_type": "code",
        "colab": {}
      },
      "source": [
        "model = models.Sequential()\n",
        "model.add(layers.Dense(256, activation='relu', input_shape=(x_train.shape[1],)))\n",
        "model.add(layers.Dense(128, activation='relu'))\n",
        "model.add(layers.Dense(64, activation='relu'))\n",
        "model.add(layers.Dense(10, activation='softmax'))\n",
        "model.summary()"
      ],
      "execution_count": 0,
      "outputs": []
    },
    {
      "cell_type": "markdown",
      "metadata": {
        "id": "iSVcBvBbuCUO",
        "colab_type": "text"
      },
      "source": [
        "*Compile, Fit & Evaluate the Model*"
      ]
    },
    {
      "cell_type": "code",
      "metadata": {
        "id": "_SVUcnAcuRYf",
        "colab_type": "code",
        "colab": {}
      },
      "source": [
        "model.compile(optimizer='adam', loss='sparse_categorical_crossentropy', metrics=['accuracy'])\n",
        "history = model.fit(x_train, y_train, epochs=200, batch_size=32)"
      ],
      "execution_count": 0,
      "outputs": []
    },
    {
      "cell_type": "markdown",
      "metadata": {
        "id": "u-dwRSf2GWFk",
        "colab_type": "text"
      },
      "source": [
        "*Function to Draw Confusion Matrix*"
      ]
    },
    {
      "cell_type": "code",
      "metadata": {
        "id": "g9jztPqWGa3v",
        "colab_type": "code",
        "colab": {}
      },
      "source": [
        "def draw_confusion_matrix(y_test,y_pred):\n",
        "  cm = metrics.confusion_matrix(y_test, y_pred)\n",
        "  plt.figure(figsize=(9,9))\n",
        "  sns.heatmap(cm, annot=True, fmt=\".3f\", linewidths=.5, square = True, cmap = 'Greens');\n",
        "  plt.ylabel('Actual label');\n",
        "  plt.xlabel('Predicted label');\n",
        "  title = 'Simple Neural Network with Keras'\n",
        "  plt.title(title, size = 15);\n",
        "  plt.show()"
      ],
      "execution_count": 0,
      "outputs": []
    },
    {
      "cell_type": "markdown",
      "metadata": {
        "id": "PqZZ-vxWvbF2",
        "colab_type": "text"
      },
      "source": [
        "*Calculate Accuracy of the Model & Print the Confusion Matrix*"
      ]
    },
    {
      "cell_type": "code",
      "metadata": {
        "id": "XJCGPEC3vb58",
        "colab_type": "code",
        "colab": {}
      },
      "source": [
        "y_pred = []\n",
        "Y_pred = model.predict(x_test)\n",
        "c=0\n",
        "for i in range(len(Y_pred)):\n",
        "    y_pred.append(np.argmax(Y_pred[i]))\n",
        "    if(np.argmax(Y_pred[i]) == y_test[i]):\n",
        "        c+=1\n",
        "accuracy = c/len(Y_pred) * 100 \n",
        "print(\"The accuracy is:\", str(accuracy), \"%.\")\n",
        "draw_confusion_matrix(y_test,y_pred)\n",
        "print(\"Part Six Successful!\")"
      ],
      "execution_count": 0,
      "outputs": []
    }
  ]
}