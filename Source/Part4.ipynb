{
  "nbformat": 4,
  "nbformat_minor": 0,
  "metadata": {
    "colab": {
      "name": "Part4.ipynb",
      "provenance": [],
      "collapsed_sections": []
    },
    "kernelspec": {
      "name": "python3",
      "display_name": "Python 3"
    }
  },
  "cells": [
    {
      "cell_type": "markdown",
      "metadata": {
        "id": "Vq0pPTM9AsBK",
        "colab_type": "text"
      },
      "source": [
        "Part Four:\n",
        "*   Split Each Audio into n(=5) Pieces (for LSTM Model)\n",
        "*   Extract Feature Values of Each Slice & Their Average\n",
        "*   Store Data Extracted in Previous Step in a Pickle File\n"
      ]
    },
    {
      "cell_type": "markdown",
      "metadata": {
        "id": "ND5GI3iCA_KW",
        "colab_type": "text"
      },
      "source": [
        "**Import Headers**"
      ]
    },
    {
      "cell_type": "code",
      "metadata": {
        "id": "D7bdl8aGBNQP",
        "colab_type": "code",
        "colab": {}
      },
      "source": [
        "import os\n",
        "import librosa\n",
        "import numpy as np\n",
        "import pickle as pkl\n",
        "!pip install pydub\n",
        "from pydub import AudioSegment\n",
        "import shutil #library by which parent folder can be deleted irrespective of its contents\n",
        "import warnings\n",
        "warnings.filterwarnings('ignore')"
      ],
      "execution_count": 0,
      "outputs": []
    },
    {
      "cell_type": "markdown",
      "metadata": {
        "id": "OSz466fNHm_Q",
        "colab_type": "text"
      },
      "source": [
        "**Function to Return the List of Genre Folders**"
      ]
    },
    {
      "cell_type": "code",
      "metadata": {
        "id": "fT9RCk_vHs_Q",
        "colab_type": "code",
        "colab": {}
      },
      "source": [
        "def genre_lists(data_path):\n",
        "  files = os.listdir(data_path)\n",
        "  genres = []\n",
        "  for g in files:\n",
        "    if(g.endswith(\"mf\")):\n",
        "      continue\n",
        "    else:\n",
        "      genres.append(g)\n",
        "  return(genres)"
      ],
      "execution_count": 0,
      "outputs": []
    },
    {
      "cell_type": "markdown",
      "metadata": {
        "id": "7ZL8EKiZH4mO",
        "colab_type": "text"
      },
      "source": [
        "**Function to Return Extracted Features**"
      ]
    },
    {
      "cell_type": "code",
      "metadata": {
        "id": "ojjo77Y5H8nq",
        "colab_type": "code",
        "colab": {}
      },
      "source": [
        "def extract_feature(audio_file):\n",
        "    extracted_features = []    \n",
        "    y, sr = librosa.load(audio_file)\n",
        "    chroma_stft = librosa.feature.chroma_stft(y=y, sr=sr)\n",
        "    rmse = librosa.feature.rms(y=y)\n",
        "    spec_cent = librosa.feature.spectral_centroid(y=y, sr=sr)\n",
        "    spec_bw = librosa.feature.spectral_bandwidth(y=y, sr=sr)\n",
        "    rolloff = librosa.feature.spectral_rolloff(y=y, sr=sr)\n",
        "    zcr = librosa.feature.zero_crossing_rate(y)\n",
        "    mfcc = librosa.feature.mfcc(y=y, sr=sr)    \n",
        "    extracted_features.append(np.mean(chroma_stft))\n",
        "    extracted_features.append(np.mean(rmse)) \n",
        "    extracted_features.append(np.mean(spec_cent))\n",
        "    extracted_features.append(np.mean(spec_bw))\n",
        "    extracted_features.append(np.mean(rolloff))\n",
        "    extracted_features.append(np.mean(zcr))    \n",
        "    for e in mfcc:\n",
        "        extracted_features.append(np.mean(e))\n",
        "    return extracted_features"
      ],
      "execution_count": 0,
      "outputs": []
    },
    {
      "cell_type": "markdown",
      "metadata": {
        "id": "RZ1Brp8kBhvD",
        "colab_type": "text"
      },
      "source": [
        "**Split Audio & Extract Features of Each Slice**"
      ]
    },
    {
      "cell_type": "code",
      "metadata": {
        "id": "0mizLemJBnlq",
        "colab_type": "code",
        "colab": {}
      },
      "source": [
        "PATH = \"/content/drive/My Drive/Project/Data/Working_Data/genres\"\n",
        "no_of_splits = 5\n",
        "MUSIC_DATA = []\n",
        "genre_list = []\n",
        "genres = genre_lists(PATH)\n",
        "for g in genres:\n",
        "    Y = []\n",
        "    c=1;\n",
        "    print(\"Genre\",g,\"started.\")\n",
        "    song_list = os.listdir(PATH + \"/\" + g)\n",
        "    for s in song_list:\n",
        "        X = []\n",
        "        os.mkdir(\"/content/TEMP\")\n",
        "        sa = PATH + \"/\" + g + \"/\" + s\n",
        "        audio = AudioSegment.from_wav(sa)\n",
        "        length = len(audio)\n",
        "        split_at = length//no_of_splits\n",
        "        st = 0\n",
        "        for i in range(no_of_splits):\n",
        "            et = st + split_at\n",
        "            if(i < no_of_splits - 1):\n",
        "                modified_audio = audio[st:et]\n",
        "            else:\n",
        "                modified_audio = audio[st:]\n",
        "            st = et\n",
        "            name = \"/content/TEMP\" + g + \"_modified_\" + str(i+1) + \"_\" + s\n",
        "            modified_audio.export(name,format = \"wav\")\n",
        "            extracted_features = extract_feature(name)\n",
        "            X.append(extracted_features)\n",
        "        shutil.rmtree(\"/content/TEMP\") #removes tree of folders & subfolders\n",
        "        print(\"Song\",str(c),\"completed.\")\n",
        "        c+=1\n",
        "        X = np.array(X)\n",
        "        MUSIC_DATA.append(X)\n",
        "        genre_list.append(g)\n",
        "MUSIC_DATA = np.array(MUSIC_DATA)\n",
        "genre_list = np.array(genre_list)\n",
        "print(\"The shape is:\", MUSIC_DATA.shape)"
      ],
      "execution_count": 0,
      "outputs": []
    },
    {
      "cell_type": "markdown",
      "metadata": {
        "id": "Sse1shH7JuQf",
        "colab_type": "text"
      },
      "source": [
        "**Write Feature & Genre Arrays into Pickle Files**"
      ]
    },
    {
      "cell_type": "code",
      "metadata": {
        "id": "O9HyLxSpJz6E",
        "colab_type": "code",
        "colab": {}
      },
      "source": [
        "with open('/content/drive/My Drive/Project/Data/Working_Data/DATA_PREPROCESS_LSTM_5.pkl','wb') as f:\n",
        "    pkl.dump(MUSIC_DATA, f)\n",
        "with open('/content/drive/My Drive/Project/Data/Working_Data/GENRE_LIST_LSTM_5.pkl','wb') as f:\n",
        "    pkl.dump(genre_list, f)\n",
        "with open('/content/drive/My Drive/Project/Data/Working_Data/DATA_PREPROCESS_LSTM_5.pkl','rb') as f:\n",
        "    X = pkl.load(f)\n",
        "with open('/content/drive/My Drive/Project/Data/Working_Data/GENRE_LIST_LSTM_5.pkl','rb') as f:\n",
        "    Y = pkl.load(f)\n",
        "print(\"The shape of the X - data (Music) is:\",X.shape)\n",
        "print(\"The shape of the Y - data (Genre) is:\",Y.shape)\n",
        "print(\"Part Four Successful!\")"
      ],
      "execution_count": 0,
      "outputs": []
    }
  ]
}