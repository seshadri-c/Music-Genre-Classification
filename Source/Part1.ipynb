{
  "nbformat": 4,
  "nbformat_minor": 0,
  "metadata": {
    "colab": {
      "name": "Part1.ipynb",
      "provenance": [],
      "collapsed_sections": []
    },
    "kernelspec": {
      "name": "python3",
      "display_name": "Python 3"
    }
  },
  "cells": [
    {
      "cell_type": "markdown",
      "metadata": {
        "id": "u51fBRkueESf",
        "colab_type": "text"
      },
      "source": [
        "Part One: \n",
        "*   Create Necessary Folders on Drive\n",
        "*   Download Data\n",
        "*   Unzip Data into Folder"
      ]
    },
    {
      "cell_type": "markdown",
      "metadata": {
        "id": "SvD30mHdePdj",
        "colab_type": "text"
      },
      "source": [
        "**Import Headers**"
      ]
    },
    {
      "cell_type": "code",
      "metadata": {
        "id": "NvamynHSeSbk",
        "colab_type": "code",
        "colab": {}
      },
      "source": [
        "import os #required for all file related operations in colab (create, delete, view, modify)\n",
        "import urllib.request #for downloading\n",
        "from datetime import datetime #required for calculating time required for doing anything\n",
        "import tarfile #for unzipping folders on linux"
      ],
      "execution_count": 0,
      "outputs": []
    },
    {
      "cell_type": "markdown",
      "metadata": {
        "id": "_Xy3ex7geVrf",
        "colab_type": "text"
      },
      "source": [
        "**Create Folders**"
      ]
    },
    {
      "cell_type": "code",
      "metadata": {
        "id": "ruN-EenPeY5i",
        "colab_type": "code",
        "colab": {}
      },
      "source": [
        "os.mkdir(\"/content/drive/My Drive/Project\")\n",
        "os.mkdir(\"/content/drive/My Drive/Project/Data\")\n",
        "os.mkdir(\"/content/drive/My Drive/Project/Source\")\n",
        "os.mkdir(\"/content/drive/My Drive/Project/Data/Original_Data\")\n",
        "os.mkdir(\"/content/drive/My Drive/Project/Data/Working_Data\")"
      ],
      "execution_count": 0,
      "outputs": []
    },
    {
      "cell_type": "markdown",
      "metadata": {
        "id": "a8MJf2Iyejio",
        "colab_type": "text"
      },
      "source": [
        "**Download Data**"
      ]
    },
    {
      "cell_type": "code",
      "metadata": {
        "id": "ThhIBhpkelcP",
        "colab_type": "code",
        "colab": {}
      },
      "source": [
        "print(\"Data download begins.\")\n",
        "url = \"http://opihi.cs.uvic.ca/sound/genres.tar.gz\"\n",
        "start_time = datetime.now()\n",
        "urllib.request.urlretrieve(url, \"/content/drive/My Drive/Project/Data/Original_Data/genres.tar.gz\") #1st parameter is where to download from & 2nd is where to store downloaded file\n",
        "end_time = datetime.now()\n",
        "time_required = (end_time - start_time).total_seconds()\n",
        "print(\"Download Complete.\\nTime required:\",time_required,\"seconds\")"
      ],
      "execution_count": 0,
      "outputs": []
    },
    {
      "cell_type": "markdown",
      "metadata": {
        "id": "LHYSTkikepQI",
        "colab_type": "text"
      },
      "source": [
        "**Unzip Downloaded Data**"
      ]
    },
    {
      "cell_type": "code",
      "metadata": {
        "id": "xWzF6EADerHu",
        "colab_type": "code",
        "colab": {}
      },
      "source": [
        "file_name = \"/content/drive/My Drive/Project/Data/Original_Data/genres.tar.gz\"\n",
        "if (file_name.endswith(\"tar.gz\")):\n",
        "  tar = tarfile.open(file_name, \"r:gz\") #to make the function understand that the file is in tar.gz format\n",
        "  print('Extracting files.') \n",
        "  start_time = datetime.now()\n",
        "  tar.extractall(path=\"/content/drive/My Drive/Project/Data/Working_Data\")\n",
        "  tar.close()\n",
        "  end_time = datetime.now()\n",
        "  time_required = (end_time - start_time).total_seconds()\n",
        "  print(\"Extraction Complete.\\nTime required:\",time_required,\"seconds\")\n",
        "  print(\"Part One Successful!\")"
      ],
      "execution_count": 0,
      "outputs": []
    }
  ]
}