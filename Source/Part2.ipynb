{
  "nbformat": 4,
  "nbformat_minor": 0,
  "metadata": {
    "colab": {
      "name": "Part2.ipynb",
      "provenance": [],
      "collapsed_sections": []
    },
    "kernelspec": {
      "name": "python3",
      "display_name": "Python 3"
    }
  },
  "cells": [
    {
      "cell_type": "markdown",
      "metadata": {
        "id": "XnKa3kmKorLg",
        "colab_type": "text"
      },
      "source": [
        "Part Two:\n",
        "*   Create Header Row of .csv File\n",
        "*   Split Each Audio into n(=50) Pieces\n",
        "*   Extract Feature Values of Each Slice & Their Average\n",
        "*   Store Data Extracted in Previous Step in a .csv File\n",
        "\n",
        "\n"
      ]
    },
    {
      "cell_type": "markdown",
      "metadata": {
        "id": "UghnxIzEpBNV",
        "colab_type": "text"
      },
      "source": [
        "**Import Headers**"
      ]
    },
    {
      "cell_type": "code",
      "metadata": {
        "id": "okIyHFGfpKqI",
        "colab_type": "code",
        "colab": {}
      },
      "source": [
        "import os\n",
        "import librosa #for audio processing\n",
        "import numpy as np #for all math functions including matrix operations\n",
        "import csv #for handling .csv files\n",
        "import datetime\n",
        "!pip install pydub\n",
        "from pydub import AudioSegment #for segmenting audio with respect to time\n",
        "import pandas as pd #library for reading data in table format"
      ],
      "execution_count": 0,
      "outputs": []
    },
    {
      "cell_type": "markdown",
      "metadata": {
        "id": "jXOB6lUWuEOk",
        "colab_type": "text"
      },
      "source": [
        "**Function to Create Header Row of Table**"
      ]
    },
    {
      "cell_type": "code",
      "metadata": {
        "id": "f20-Xs6euJOQ",
        "colab_type": "code",
        "colab": {}
      },
      "source": [
        "def create_header(file_path, file_name, times):\n",
        "  modified_file_name = file_path + \"/\" + file_name + \"_\" + str(times)+\".csv\"\n",
        "  file = open(modified_file_name, 'w', newline='') #w means write mode\n",
        "  c = 0\n",
        "  header = 'filename'\n",
        "  for i in range(times):\n",
        "    header += \" chroma_stft_\" + str(i+1) + \" \" + \"rmse_\" + str(i+1) + \" \" + \"spectral_centroid_\" + str(i+1) + \" \" + \"spectral_bandwidth_\" + str(i+1) + \" \" + \"rolloff_\" + str(i+1) + \" \" + \"zcr_\" + str(i+1)\n",
        "    for j in range(20):\n",
        "      header += \" mfcc_\" + str(j+1) + \"_\" + str(i+1)\n",
        "  header += \" avg_chroma_stft\" + \" \" + \"avg_rmse\" + \" \" + \"avg_spectral_centroid\" + \" \" + \"avg_spectral_bandwidth\" + \" \" + \"avg_rolloff\" + \" \" + \"avg_zcr\"\n",
        "  for j in range(20):\n",
        "    header += \" avg_mfcc\" + str(j+1)\n",
        "  header += \" label\"\n",
        "  header = header.split()\n",
        "  print(\"The number of columns are: \",len(header))\n",
        "  with file:\n",
        "      writer = csv.writer(file)\n",
        "      writer.writerow(header)\n",
        "  return"
      ],
      "execution_count": 0,
      "outputs": []
    },
    {
      "cell_type": "markdown",
      "metadata": {
        "id": "HycZkpCwx2Y_",
        "colab_type": "text"
      },
      "source": [
        "**Function to Return the List of Genre Folders**"
      ]
    },
    {
      "cell_type": "code",
      "metadata": {
        "id": "hMGS0mK7x_Ig",
        "colab_type": "code",
        "colab": {}
      },
      "source": [
        "def genre_list(data_path):\n",
        "  files = os.listdir(data_path)\n",
        "  genres = []\n",
        "  for g in files:\n",
        "    if(g.endswith(\"mf\")):\n",
        "      continue\n",
        "    else:\n",
        "      genres.append(g)\n",
        "  return(genres)"
      ],
      "execution_count": 0,
      "outputs": []
    },
    {
      "cell_type": "markdown",
      "metadata": {
        "id": "pa3Lamme2TQO",
        "colab_type": "text"
      },
      "source": [
        "**Function to Split the Audio**"
      ]
    },
    {
      "cell_type": "code",
      "metadata": {
        "id": "bOtoJ77M2X9W",
        "colab_type": "code",
        "colab": {}
      },
      "source": [
        "def split_song(song, no_of_pieces) : \n",
        "  audio = AudioSegment.from_wav(song)\n",
        "  st = 0\n",
        "  slicing_time = int(len(audio)/no_of_pieces)\n",
        "  name_of_files = []\n",
        "  for i in range(no_of_pieces):\n",
        "    x = \"/content/temp/sliced_audio_\" + str(no_of_pieces) + \"_\" + str(i+1) + \".wav\"\n",
        "    name_of_files.append(x)\n",
        "    et = st + slicing_time\n",
        "    audio_sliced = audio[st:et]\n",
        "    st = et\n",
        "    audio_sliced.export(x, format = \"wav\") #exporting the sliced audio file to memory\n",
        "  return name_of_files"
      ],
      "execution_count": 0,
      "outputs": []
    },
    {
      "cell_type": "markdown",
      "metadata": {
        "id": "fJqc4Jb23SoI",
        "colab_type": "text"
      },
      "source": [
        "**Function to Extract Features**"
      ]
    },
    {
      "cell_type": "code",
      "metadata": {
        "id": "QIzDtdTS3WKC",
        "colab_type": "code",
        "colab": {}
      },
      "source": [
        "def extract_feature(audio_file):\n",
        "  y, sr = librosa.load(audio_file)\n",
        "  chroma_stft = librosa.feature.chroma_stft(y=y, sr=sr)\n",
        "  rmse = librosa.feature.rms(y=y)\n",
        "  spec_cent = librosa.feature.spectral_centroid(y=y, sr=sr)\n",
        "  spec_bw = librosa.feature.spectral_bandwidth(y=y, sr=sr)\n",
        "  rolloff = librosa.feature.spectral_rolloff(y=y, sr=sr)\n",
        "  zcr = librosa.feature.zero_crossing_rate(y)\n",
        "  mfcc = librosa.feature.mfcc(y=y, sr=sr)\n",
        "  return chroma_stft, rmse, spec_cent, spec_bw, rolloff, zcr, mfcc"
      ],
      "execution_count": 0,
      "outputs": []
    },
    {
      "cell_type": "markdown",
      "metadata": {
        "id": "Fo2-ZGKoy2zt",
        "colab_type": "text"
      },
      "source": [
        "**Function to Extract Features of Each Slice of an Audio**"
      ]
    },
    {
      "cell_type": "code",
      "metadata": {
        "id": "W4mTuCBoy_RT",
        "colab_type": "code",
        "colab": {}
      },
      "source": [
        "def feature_of_each_slice(audio, genre, times):\n",
        "  extracted_features = []\n",
        "  extracted_features.append(audio)\n",
        "  name_of_files = split_song(audio, times)\n",
        "  for split_audio_file in name_of_files:\n",
        "    chroma_stft, rmse, spec_cent, spec_bw, rolloff, zcr, mfcc = extract_feature(split_audio_file)\n",
        "    extracted_features.append(np.mean(chroma_stft))\n",
        "    extracted_features.append(np.mean(rmse)) \n",
        "    extracted_features.append(np.mean(spec_cent))\n",
        "    extracted_features.append(np.mean(spec_bw))\n",
        "    extracted_features.append(np.mean(rolloff))\n",
        "    extracted_features.append(np.mean(zcr))\n",
        "    for e in mfcc:\n",
        "      extracted_features.append(np.mean(e))\n",
        "  for names in name_of_files:\n",
        "    os.remove(names)\n",
        "  for i in range(26):\n",
        "    temp = []\n",
        "    c = i+1\n",
        "    for j in range(times):\n",
        "      temp.append(extracted_features[c])\n",
        "      c+=26\n",
        "    extracted_features.append(np.mean(temp))\n",
        "  extracted_features.append(genre)\n",
        "  return extracted_features"
      ],
      "execution_count": 0,
      "outputs": []
    },
    {
      "cell_type": "markdown",
      "metadata": {
        "id": "6X4LkdW3rNht",
        "colab_type": "text"
      },
      "source": [
        "**Function to Store Feature Data of Files**"
      ]
    },
    {
      "cell_type": "code",
      "metadata": {
        "id": "5e1eOLPHrhK4",
        "colab_type": "code",
        "colab": {}
      },
      "source": [
        "def store_data_into_csv():\n",
        "  os.mkdir(\"/content/temp\")\n",
        "  os.mkdir(\"/content/drive/My Drive/Project/Data/Working_Data/csv_files\")\n",
        "  file_path = \"/content/drive/My Drive/Project/Data/Working_Data/csv_files\"\n",
        "  file_name = \"data\"\n",
        "  times = 50\n",
        "  PATH = \"/content/drive/My Drive/Project/Data/Working_Data/genres\"\n",
        "  modified_file_name = file_path + \"/\" + file_name + \"_\" + str(times)+\".csv\"\n",
        "  create_header(file_path, file_name, times)\n",
        "  i=1\n",
        "  genre = genre_list(PATH)\n",
        "  start = datetime.datetime.now()\n",
        "  for g in genre:\n",
        "    print(\"Genre \" + g + \" started.\")\n",
        "    songs_genre = os.listdir(PATH + \"/\" + g)\n",
        "    for sg in songs_genre:\n",
        "      song = PATH + '/' + g + '/' + sg\n",
        "      extracted_features = []\n",
        "      extracted_features.extend(feature_of_each_slice(song, g, times))\n",
        "      file = open(modified_file_name, 'a', newline='') #a means append mode\n",
        "      with file:\n",
        "        writer = csv.writer(file)\n",
        "        writer.writerow(extracted_features)\n",
        "      i+=1\n",
        "    print(\"Genre \" + g + \" completed.\")\n",
        "  end = datetime.datetime.now()\n",
        "  time_reqd = (end - start).total_seconds()\n",
        "  print(\"Time taken:\", time_reqd, \"seconds\")"
      ],
      "execution_count": 0,
      "outputs": []
    },
    {
      "cell_type": "markdown",
      "metadata": {
        "id": "dg4T_n1rqB41",
        "colab_type": "text"
      },
      "source": [
        "**Call Function to Store Data in .csv Format**"
      ]
    },
    {
      "cell_type": "code",
      "metadata": {
        "id": "1PEwv6NKqOgo",
        "colab_type": "code",
        "colab": {}
      },
      "source": [
        "store_data_into_csv()"
      ],
      "execution_count": 0,
      "outputs": []
    },
    {
      "cell_type": "markdown",
      "metadata": {
        "id": "4abY4za-6DvF",
        "colab_type": "text"
      },
      "source": [
        "**Check Shape**"
      ]
    },
    {
      "cell_type": "code",
      "metadata": {
        "id": "iEKCvvzG6LkR",
        "colab_type": "code",
        "colab": {}
      },
      "source": [
        "data = pd.read_csv(\"/content/drive/My Drive/Project/Data/Working_Data/csv_files/data_50.csv\")\n",
        "print(\"The size of the data is:\", data.shape)\n",
        "print(\"Part Two Successful!\")"
      ],
      "execution_count": 0,
      "outputs": []
    }
  ]
}